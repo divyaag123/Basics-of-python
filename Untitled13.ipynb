{
 "cells": [
  {
   "cell_type": "code",
   "execution_count": 1,
   "id": "f698045e",
   "metadata": {},
   "outputs": [
    {
     "name": "stdout",
     "output_type": "stream",
     "text": [
      "Hello World\n"
     ]
    }
   ],
   "source": [
    "print('Hello World')"
   ]
  },
  {
   "cell_type": "code",
   "execution_count": 3,
   "id": "ad672f70",
   "metadata": {},
   "outputs": [],
   "source": [
    "var ='Divya'"
   ]
  },
  {
   "cell_type": "code",
   "execution_count": 4,
   "id": "e073596b",
   "metadata": {},
   "outputs": [
    {
     "name": "stdout",
     "output_type": "stream",
     "text": [
      "Divya\n"
     ]
    }
   ],
   "source": [
    "print(var)"
   ]
  },
  {
   "cell_type": "code",
   "execution_count": 5,
   "id": "9cb0fb5f",
   "metadata": {},
   "outputs": [],
   "source": [
    "bag1 = 'Textbook','Bottle','Pencil Box','Lunch Box'"
   ]
  },
  {
   "cell_type": "code",
   "execution_count": 6,
   "id": "75892f05",
   "metadata": {},
   "outputs": [
    {
     "data": {
      "text/plain": [
       "('Textbook', 'Bottle', 'Pencil Box', 'Lunch Box')"
      ]
     },
     "execution_count": 6,
     "metadata": {},
     "output_type": "execute_result"
    }
   ],
   "source": [
    "bag1"
   ]
  },
  {
   "cell_type": "code",
   "execution_count": 7,
   "id": "df99c0da",
   "metadata": {},
   "outputs": [],
   "source": [
    " #four types of data structures in python\n",
    "#list - [data(s)]\n",
    "#Tuple - (data(s))\n",
    "#Dictionaries - {Key:value}\n",
    "#Sets - {data(s)}"
   ]
  },
  {
   "cell_type": "code",
   "execution_count": 8,
   "id": "abf27625",
   "metadata": {},
   "outputs": [],
   "source": [
    "#list -[data(s)] \n",
    "Fruits = ['Tomatoes',\n",
    "'Potatoes',\n",
    "'Grapes',\n",
    "'Mangoes',\n",
    "'Litchi'] "
   ]
  },
  {
   "cell_type": "code",
   "execution_count": 9,
   "id": "d49eccca",
   "metadata": {},
   "outputs": [
    {
     "data": {
      "text/plain": [
       "list"
      ]
     },
     "execution_count": 9,
     "metadata": {},
     "output_type": "execute_result"
    }
   ],
   "source": [
    "type(Fruits)"
   ]
  },
  {
   "cell_type": "code",
   "execution_count": 12,
   "id": "4ce9a068",
   "metadata": {},
   "outputs": [],
   "source": [
    "Fruits.append('Milk')"
   ]
  },
  {
   "cell_type": "code",
   "execution_count": 13,
   "id": "9de17619",
   "metadata": {},
   "outputs": [
    {
     "data": {
      "text/plain": [
       "['Tomatoes', 'Potatoes', 'Grapes', 'Mangoes', 'Litchi', 'Mangoes', 'Milk']"
      ]
     },
     "execution_count": 13,
     "metadata": {},
     "output_type": "execute_result"
    }
   ],
   "source": [
    "Fruits"
   ]
  },
  {
   "cell_type": "code",
   "execution_count": 14,
   "id": "5be43c2a",
   "metadata": {},
   "outputs": [
    {
     "data": {
      "text/plain": [
       "['Tomatoes', 'Potatoes', 'Grapes', 'Mangoes', 'Litchi', 'Mangoes', 'Milk']"
      ]
     },
     "execution_count": 14,
     "metadata": {},
     "output_type": "execute_result"
    }
   ],
   "source": [
    "#Indexing and Slicing\n",
    "Fruits\n"
   ]
  },
  {
   "cell_type": "code",
   "execution_count": 15,
   "id": "eed12a7e",
   "metadata": {},
   "outputs": [
    {
     "data": {
      "text/plain": [
       "'Litchi'"
      ]
     },
     "execution_count": 15,
     "metadata": {},
     "output_type": "execute_result"
    }
   ],
   "source": [
    "Fruits[4] #This is Indexing"
   ]
  },
  {
   "cell_type": "code",
   "execution_count": 16,
   "id": "7683c2c6",
   "metadata": {},
   "outputs": [
    {
     "data": {
      "text/plain": [
       "['Potatoes', 'Grapes', 'Mangoes']"
      ]
     },
     "execution_count": 16,
     "metadata": {},
     "output_type": "execute_result"
    }
   ],
   "source": [
    "#Slicing\n",
    "#Syntax : variable_name[start:stop+1]\n",
    "Fruits[1:3+1]"
   ]
  },
  {
   "cell_type": "code",
   "execution_count": 17,
   "id": "18be3f39",
   "metadata": {},
   "outputs": [],
   "source": [
    "#Deleting a element from the List\n",
    "del Fruits[5]"
   ]
  },
  {
   "cell_type": "code",
   "execution_count": 18,
   "id": "786e3a2e",
   "metadata": {},
   "outputs": [
    {
     "data": {
      "text/plain": [
       "['Tomatoes', 'Potatoes', 'Grapes', 'Mangoes', 'Litchi', 'Milk']"
      ]
     },
     "execution_count": 18,
     "metadata": {},
     "output_type": "execute_result"
    }
   ],
   "source": [
    "Fruits"
   ]
  },
  {
   "cell_type": "code",
   "execution_count": 19,
   "id": "9cfe1bae",
   "metadata": {},
   "outputs": [],
   "source": [
    "#Updating the List\n",
    "Fruits[5] = 'MilkPowder'"
   ]
  },
  {
   "cell_type": "code",
   "execution_count": 20,
   "id": "4b3f505f",
   "metadata": {},
   "outputs": [
    {
     "data": {
      "text/plain": [
       "['Tomatoes', 'Potatoes', 'Grapes', 'Mangoes', 'Litchi', 'MilkPowder']"
      ]
     },
     "execution_count": 20,
     "metadata": {},
     "output_type": "execute_result"
    }
   ],
   "source": [
    "Fruits"
   ]
  },
  {
   "cell_type": "code",
   "execution_count": 22,
   "id": "72e969d1",
   "metadata": {},
   "outputs": [],
   "source": [
    "#Difference between a List and a Tuple is that a List is mutable and a Tuple is immutable\n",
    "List1 = ['Tomatoes',\n",
    "'Potatoes',\n",
    "'Grapes',\n",
    "'Mangoes',\n",
    "'Litchi'] \n",
    "Tuple1 = ('Tomatoes',\n",
    "'Potatoes',\n",
    "'Grapes',\n",
    "'Mangoes',\n",
    "'Litchi')\n"
   ]
  },
  {
   "cell_type": "code",
   "execution_count": 23,
   "id": "81dbf402",
   "metadata": {},
   "outputs": [
    {
     "data": {
      "text/plain": [
       "list"
      ]
     },
     "execution_count": 23,
     "metadata": {},
     "output_type": "execute_result"
    }
   ],
   "source": [
    "type(List1)"
   ]
  },
  {
   "cell_type": "code",
   "execution_count": 24,
   "id": "f287dec4",
   "metadata": {},
   "outputs": [
    {
     "data": {
      "text/plain": [
       "tuple"
      ]
     },
     "execution_count": 24,
     "metadata": {},
     "output_type": "execute_result"
    }
   ],
   "source": [
    "type(Tuple1)"
   ]
  },
  {
   "cell_type": "code",
   "execution_count": 25,
   "id": "17345ac1",
   "metadata": {
    "scrolled": true
   },
   "outputs": [
    {
     "ename": "TypeError",
     "evalue": "'tuple' object does not support item assignment",
     "output_type": "error",
     "traceback": [
      "\u001b[1;31m---------------------------------------------------------------------------\u001b[0m",
      "\u001b[1;31mTypeError\u001b[0m                                 Traceback (most recent call last)",
      "\u001b[1;32m<ipython-input-25-dfe7cc1d243c>\u001b[0m in \u001b[0;36m<module>\u001b[1;34m\u001b[0m\n\u001b[1;32m----> 1\u001b[1;33m \u001b[0mTuple1\u001b[0m\u001b[1;33m[\u001b[0m\u001b[1;36m3\u001b[0m\u001b[1;33m]\u001b[0m \u001b[1;33m=\u001b[0m \u001b[1;34m\"Cucumber\"\u001b[0m\u001b[1;33m\u001b[0m\u001b[1;33m\u001b[0m\u001b[0m\n\u001b[0m",
      "\u001b[1;31mTypeError\u001b[0m: 'tuple' object does not support item assignment"
     ]
    }
   ],
   "source": [
    "Tuple1[3] = \"Cucumber\""
   ]
  },
  {
   "cell_type": "code",
   "execution_count": 7,
   "id": "e35edbb6",
   "metadata": {},
   "outputs": [],
   "source": [
    " # we use a dictionary to search the meaning of the word\n",
    "# Key should be different\n",
    "# All the elements will be ordered according to thier alphabetical order\n",
    "#Dictionaries follow precendence order capital letter words come first\n",
    "dictionary1 = {'Pencil':'a wooden object containing a graphite stick',\n",
    "               'Computer': \"sfhfdhsagdksafd\",'pencil':\"hfhjvhgjb\"}\n",
    " "
   ]
  },
  {
   "cell_type": "code",
   "execution_count": 8,
   "id": "213de8b1",
   "metadata": {},
   "outputs": [
    {
     "data": {
      "text/plain": [
       "{'Pencil': 'a wooden object containing a graphite stick',\n",
       " 'Computer': 'sfhfdhsagdksafd',\n",
       " 'pencil': 'hfhjvhgjb'}"
      ]
     },
     "execution_count": 8,
     "metadata": {},
     "output_type": "execute_result"
    }
   ],
   "source": [
    "dictionary1\n"
   ]
  },
  {
   "cell_type": "code",
   "execution_count": 3,
   "id": "c7e5bd04",
   "metadata": {},
   "outputs": [
    {
     "data": {
      "text/plain": [
       "dict"
      ]
     },
     "execution_count": 3,
     "metadata": {},
     "output_type": "execute_result"
    }
   ],
   "source": [
    "type(dictionary1)"
   ]
  },
  {
   "cell_type": "code",
   "execution_count": 6,
   "id": "49fec450",
   "metadata": {},
   "outputs": [
    {
     "data": {
      "text/plain": [
       "'a wooden object containing a graphite stick'"
      ]
     },
     "execution_count": 6,
     "metadata": {},
     "output_type": "execute_result"
    }
   ],
   "source": [
    "dictionary1['Pencil']"
   ]
  },
  {
   "cell_type": "code",
   "execution_count": 9,
   "id": "e2f852b0",
   "metadata": {},
   "outputs": [],
   "source": [
    " #Difference between a set and list \n",
    "set1 = {1,2,3,4,5,2,1,1}"
   ]
  },
  {
   "cell_type": "code",
   "execution_count": 10,
   "id": "2c38b264",
   "metadata": {},
   "outputs": [
    {
     "data": {
      "text/plain": [
       "{1, 2, 3, 4, 5}"
      ]
     },
     "execution_count": 10,
     "metadata": {},
     "output_type": "execute_result"
    }
   ],
   "source": [
    "set1"
   ]
  },
  {
   "cell_type": "code",
   "execution_count": 11,
   "id": "6b55449e",
   "metadata": {},
   "outputs": [],
   "source": [
    "list1 = [1,2,3,4,5,2,1,1]"
   ]
  },
  {
   "cell_type": "code",
   "execution_count": 12,
   "id": "1e688e4b",
   "metadata": {},
   "outputs": [
    {
     "data": {
      "text/plain": [
       "[1, 2, 3, 4, 5, 2, 1, 1]"
      ]
     },
     "execution_count": 12,
     "metadata": {},
     "output_type": "execute_result"
    }
   ],
   "source": [
    "list1"
   ]
  },
  {
   "cell_type": "code",
   "execution_count": 13,
   "id": "6f103374",
   "metadata": {},
   "outputs": [],
   "source": [
    "#Loops and conditional statements\n",
    "#if condition:\n",
    "    #staement\n",
    "#statement\n",
    "\n",
    "# if condition:\n",
    "    #statement\n",
    "# elif condition:\n",
    "    #statement\n",
    "#elif condition:\n",
    "    #statement\n",
    "#else:\n",
    "    #statement\n",
    "\n",
    "\n"
   ]
  },
  {
   "cell_type": "code",
   "execution_count": 16,
   "id": "e4cf35ca",
   "metadata": {},
   "outputs": [],
   "source": [
    "tom_will_be_iron_man = False\n"
   ]
  },
  {
   "cell_type": "code",
   "execution_count": 17,
   "id": "93dec93f",
   "metadata": {},
   "outputs": [
    {
     "name": "stdout",
     "output_type": "stream",
     "text": [
      "I will pay the ticket\n"
     ]
    }
   ],
   "source": [
    "if tom_will_be_iron_man:\n",
    "    print(\"my friend will gonna pay for the tickets\")\n",
    "else:\n",
    "    print(\"I will pay the ticket\")"
   ]
  },
  {
   "cell_type": "code",
   "execution_count": 19,
   "id": "785586a4",
   "metadata": {},
   "outputs": [
    {
     "name": "stdout",
     "output_type": "stream",
     "text": [
      "you will not gonna get the certificate\n"
     ]
    }
   ],
   "source": [
    "hundred_percent_attendance = True\n",
    "project_submission = False\n",
    "if hundred_percent_attendance:\n",
    "    if project_submission:\n",
    "        print(\"You will get the certificate\")\n",
    "    else:\n",
    "        print(\"you will not gonna get the certificate\")\n",
    "else:\n",
    "    print(\"You will not gonna get the certificate\")"
   ]
  },
  {
   "cell_type": "code",
   "execution_count": 23,
   "id": "8a17b2cb",
   "metadata": {},
   "outputs": [
    {
     "name": "stdout",
     "output_type": "stream",
     "text": [
      "Hello World\n",
      "Hello World\n",
      "Hello World\n",
      "Hello World\n",
      "Hello World\n",
      "Hello World\n",
      "Hello World\n",
      "Hello World\n",
      "Hello World\n",
      "Hello World\n"
     ]
    }
   ],
   "source": [
    "#Loops\n",
    "#For loops : not an infinite loop\n",
    "#While Loop : infinite loop\n",
    "# starting point is inclusive and end point is exclusive\n",
    "for i in range(0,10):\n",
    "    print(\"Hello World\")\n",
    "\n",
    "\n",
    "\n"
   ]
  },
  {
   "cell_type": "code",
   "execution_count": null,
   "id": "35f2d4ea",
   "metadata": {},
   "outputs": [],
   "source": [
    "for i in range(0,10):\n",
    "    print(i)"
   ]
  },
  {
   "cell_type": "code",
   "execution_count": null,
   "id": "be5b31d6",
   "metadata": {},
   "outputs": [],
   "source": [
    "count   = 5"
   ]
  },
  {
   "cell_type": "code",
   "execution_count": null,
   "id": "94380f00",
   "metadata": {},
   "outputs": [],
   "source": [
    "count = 5\n",
    "while 10 > count :\n",
    "    print('Hello World' , count)\n",
    "    count = count + 1"
   ]
  },
  {
   "cell_type": "code",
   "execution_count": null,
   "id": "88ea6bf7",
   "metadata": {},
   "outputs": [],
   "source": []
  },
  {
   "cell_type": "code",
   "execution_count": null,
   "id": "0b6d4d36",
   "metadata": {},
   "outputs": [],
   "source": []
  },
  {
   "cell_type": "code",
   "execution_count": null,
   "id": "fd308294",
   "metadata": {},
   "outputs": [],
   "source": []
  },
  {
   "cell_type": "code",
   "execution_count": null,
   "id": "880b1ba8",
   "metadata": {},
   "outputs": [],
   "source": []
  }
 ],
 "metadata": {
  "kernelspec": {
   "display_name": "Python 3",
   "language": "python",
   "name": "python3"
  },
  "language_info": {
   "codemirror_mode": {
    "name": "ipython",
    "version": 3
   },
   "file_extension": ".py",
   "mimetype": "text/x-python",
   "name": "python",
   "nbconvert_exporter": "python",
   "pygments_lexer": "ipython3",
   "version": "3.8.8"
  }
 },
 "nbformat": 4,
 "nbformat_minor": 5
}
